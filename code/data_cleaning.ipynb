{
 "cells": [
  {
   "cell_type": "code",
   "execution_count": 2,
   "metadata": {},
   "outputs": [],
   "source": [
    "import pandas as pd"
   ]
  },
  {
   "cell_type": "code",
   "execution_count": 3,
   "metadata": {},
   "outputs": [],
   "source": [
    "biomass_data = pd.read_csv(\"../data/raw/biomass-fish-stocks-region.csv\")\n",
    "data_and_chart = pd.read_csv(\"../data/raw/DATA AND CHART-Table 1.csv\")\n",
    "sea_surface_temp = pd.read_csv(\"../data/raw/sea-surface-temp_fig-1.csv\", encoding='ISO-8859-1')"
   ]
  },
  {
   "cell_type": "code",
   "execution_count": 4,
   "metadata": {},
   "outputs": [],
   "source": [
    "biomass_cleaned = biomass_data.drop(columns=[\"Code\"]) \n",
    "biomass_cleaned.columns = [\"Entity\", \"Year\", \"BiomassMeanRegion\"]\n",
    "\n",
    "data_and_chart_cleaned = data_and_chart.loc[:, data_and_chart.columns.notnull()]\n",
    "relevant_columns = [\"Date\", \"Year\", \"pH\", \"Uncertainty\", \"Lower uncertainty limit\", \"Upper uncertainty limit\"]\n",
    "data_and_chart_cleaned = data_and_chart_cleaned[relevant_columns]\n",
    "\n",
    "sea_surface_temp_cleaned = sea_surface_temp.dropna(how=\"all\")\n",
    "sea_surface_temp_cleaned.columns = [\"Description\", \"Value1\", \"Value2\", \"Value3\"]\n"
   ]
  },
  {
   "cell_type": "code",
   "execution_count": 8,
   "metadata": {},
   "outputs": [
    {
     "name": "stderr",
     "output_type": "stream",
     "text": [
      "/var/folders/_c/cbt8xxhx1q18s6z108pfn5d00000gn/T/ipykernel_61016/2624872785.py:13: SettingWithCopyWarning: \n",
      "A value is trying to be set on a copy of a slice from a DataFrame.\n",
      "Try using .loc[row_indexer,col_indexer] = value instead\n",
      "\n",
      "See the caveats in the documentation: https://pandas.pydata.org/pandas-docs/stable/user_guide/indexing.html#returning-a-view-versus-a-copy\n",
      "  relevant_data[numerical_columns] = relevant_data[numerical_columns].apply(pd.to_numeric, errors='coerce')\n"
     ]
    }
   ],
   "source": [
    "co2_emissions = pd.read_csv('../data/raw/annual-co2-emissions-per-country.csv')\n",
    "\n",
    "cleaned_co2_emissions = co2_emissions.drop_duplicates()\n",
    "\n",
    "if 'Entity' in cleaned_co2_emissions.columns:\n",
    "    relevant_data = cleaned_co2_emissions[\n",
    "        cleaned_co2_emissions['Entity'].str.contains(\"World|Global|Total\", case=False, na=False)\n",
    "    ]\n",
    "else:\n",
    "    relevant_data = cleaned_co2_emissions\n",
    "\n",
    "numerical_columns = relevant_data.select_dtypes(include=['float64', 'int64']).columns\n",
    "relevant_data[numerical_columns] = relevant_data[numerical_columns].apply(pd.to_numeric, errors='coerce')\n",
    "\n",
    "cleaned_co2_emissions = relevant_data.dropna(how='all', subset=numerical_columns)\n",
    "\n"
   ]
  },
  {
   "cell_type": "code",
   "execution_count": 9,
   "metadata": {},
   "outputs": [],
   "source": [
    "biomass_cleaned.to_csv(\"../data/cleaned/biomass_data.csv\", index=False)\n",
    "data_and_chart_cleaned.to_csv(\"../data/cleaned/data_and_chart.csv\", index=False)\n",
    "sea_surface_temp_cleaned.to_csv(\"../data/cleaned/sea_surface_temp.csv\", index=False)\n",
    "cleaned_co2_emissions.to_csv(\"../data/cleaned/global_co2.csv\", index=False)"
   ]
  }
 ],
 "metadata": {
  "kernelspec": {
   "display_name": "base",
   "language": "python",
   "name": "python3"
  },
  "language_info": {
   "codemirror_mode": {
    "name": "ipython",
    "version": 3
   },
   "file_extension": ".py",
   "mimetype": "text/x-python",
   "name": "python",
   "nbconvert_exporter": "python",
   "pygments_lexer": "ipython3",
   "version": "3.11.5"
  }
 },
 "nbformat": 4,
 "nbformat_minor": 2
}
